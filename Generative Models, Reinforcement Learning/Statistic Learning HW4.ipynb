{
 "cells": [
  {
   "cell_type": "markdown",
   "id": "mature-script",
   "metadata": {},
   "source": [
    "# 2020270026 应用统计硕士 王姿文"
   ]
  },
  {
   "cell_type": "markdown",
   "id": "academic-transportation",
   "metadata": {},
   "source": [
    "-----\n",
    "# 1 Generative Models"
   ]
  },
  {
   "cell_type": "markdown",
   "id": "authentic-simple",
   "metadata": {},
   "source": [
    "## Problem 1.1\n",
    "### IWAE   \n",
    "### 1   \n",
    "$By \\ Jensen's \\ Inequality, \\ f(E[X])\\leq E[f(x)], \\forall \\ f(.)\\ is\\ a\\ convex \\ function\\\\ \\because log(.)\\ isn't\\ a\\ convex \\ function\\\\ \\Rightarrow IWAE(K) = E_{q(z|x,\\phi)}[log(\\frac{1}{K}\\sum_{k=1}^K\\frac{p(z^{(k)},x;\\theta)}{q(z^{(k)}|x;\\phi)})] \\\\ \\leq log(\\frac{1}{K}\\sum_{k=1}^KE_{q(z|x,\\phi)}[\\frac{p(z^{(k)},x;\\theta)}{q(z^{(k)}|x;\\phi)}]) = logp(x;\\theta) \\\\ \\Rightarrow IWAE(K) \\leq logp(x;\\theta)-(1)$   \n",
    "   \n",
    "   \n",
    "$又\\frac{1}{K}\\sum_{k=1}^Klog(\\frac{p(z^{(k)},x;\\theta)}{q(z^{(k)}|x,\\phi)}) \\leq log(\\frac{1}{K}\\sum_{k=1}^K\\frac{p(z^{(k)},x;\\theta)}{q(z^{(k)}|x,\\phi)}) \\\\ \\Rightarrow \\frac{1}{K}\\sum_{k=1}^KE_{q(z|x,\\phi)}[log(\\frac{p(z^{(k)},x;\\theta)}{q(z^{(k)}|x,\\phi)})] \\leq E_{q(z|x,\\phi)}[log(\\frac{1}{K}\\sum_{k=1}^K\\frac{p(z^{(k)},x;\\theta)}{q(z^{(k)}|x,\\phi)})]\\\\ \\Rightarrow E_{q(z|x,\\phi)}[log(\\frac{p(z,x;\\theta)}{q(z|x,\\phi)})] \\leq E_{q(z|x,\\phi)}[log(\\frac{1}{K}\\sum_{k=1}^K\\frac{p(z^{(k)},x;\\theta)}{q(z^{(k)}|x,\\phi)})]\\\\ \\Rightarrow IWAE(1)\\leq IWAE(K)-(2)$   \n",
    "   \n",
    "   \n",
    "$By \\ (1), \\ (2) \\\\ \\Rightarrow IWAE(1)\\leq IWAE(K)\\leq logp(x;\\theta)得证$   \n",
    "   \n",
    "   \n",
    "### 2   \n",
    "首先得$lim_{k\\rightarrow +\\infty}\\frac{1}{K}\\sum_{k=1}^K\\frac{p(z^{(k)},x;\\theta)}{q(z^{(k)}}) = E_{q(z|x,\\phi)}[\\frac{p(z,x;\\theta)}{q(z|x,\\phi)}] = p(z,x;\\theta)$   \n",
    "$\\therefore lim_{k\\rightarrow +\\infty} IWAE(K) = lim_{k\\rightarrow +\\infty}E_{q(z|x,\\phi)}[log(\\frac{1}{K}\\sum_{k=1}^K\\frac{p(z^{(k)},x;\\theta)}{q(z^{(k)}|x;\\phi)})] \\\\ = E_{q(z|x,\\phi)}[log(lim_{k\\rightarrow +\\infty}\\frac{1}{K}\\sum_{k=1}^K\\frac{p(z^{(k)},x;\\theta)}{q(z^{(k)}|x;\\phi)})] \\\\ = E_{q(z|x,\\phi)}[logp(z,x;\\theta)] \\\\ = logp(z,x;\\theta) \\\\ \\Rightarrow lim_{k\\rightarrow +\\infty} IWAE(K) = logp(z,x;\\theta)得证$   \n",
    "    \n",
    "    \n",
    "### 3   \n",
    "$\\because log(.) \\ is \\ a \\ monotonic \\ function \\\\ \\therefore K < L, log(\\frac{1}{K}\\sum_{k=1}^K\\frac{p(z^{(k)},x;\\theta)}{q(z^{(k)}|x;\\phi)}) \\leq log(\\frac{1}{L}\\sum_{k=1}^L\\frac{p(z^{(k)},x;\\theta)}{q(z^{(k)}|x;\\phi)}) \\Rightarrow IWAE(K) \\leq IWAE(L)得证$"
   ]
  },
  {
   "cell_type": "markdown",
   "id": "major-hudson",
   "metadata": {},
   "source": [
    "------\n",
    "## Problem 1.2\n",
    "### Affine VAE and probabilistic PCA   \n",
    "$By \\ equation \\ in\\ slide, \\ logp(x^{(1)},x^{(2)},...,x^{(n)}) = log\\prod_{i=1}^np(x^{(i)}) \\\\ = \\sum_{i=1}^n\\int q(z|x^{(i)})log\\frac{p(x^{(i)},z)}{q(z|x^{(i)})}dz + \\sum_{i=1}^{n}KL(q(z|x^{(i)})||p(z|x^{(i)}))\\\\=ELBO+ \\sum_{i=1}^{n}KL(q(z|x^{(i)})||p(z|x^{(i)})) \\\\ \\Rightarrow ELBO=\\sum_{i=1}^n\\int q(z|x^{(i)})log\\frac{p(x^{(i)},z)}{q(z|x^{(i)})}dz$   \n",
    "   \n",
    "   \n",
    "如果$x \\ is \\ constant$，则$logp(x) \\ is \\ constant$   \n",
    "已知$\\mu^{*}, \\ S^{*} \\Rightarrow q(z|x^{(i)})=p(z|x^{(i)}) \\\\ \\Rightarrow p(z|x)\\sim Multivariant \\ Guassian \\ Distribution\\\\ \\Rightarrow maxELBO = logp(x)$   \n",
    "   \n",
    "   \n",
    "故下求$logp(x)$：   \n",
    "$p(x)=\\int p(x|z)p(z)dz = N(b,\\lambda I+WW^T) \\\\ q(z|x)=p(z|x) = N((\\lambda I + W^TW)^{-1}W^T(x-b),\\lambda(\\lambda I+W^TW)^{-1}) = N(\\mu^{*}, \\ (S^{*})^2) \\\\ \\Rightarrow ELBO=logp(x)=\\sum_{i=1}^nlogp(x^i)=-\\sum_i(x^{(i)}-b)^T(\\lambda I+WW^T)^{-1}(x^{(i)}-b)-nlog|\\lambda I+WW^T|modulo \\ constants得证$"
   ]
  },
  {
   "cell_type": "markdown",
   "id": "excited-christopher",
   "metadata": {},
   "source": [
    "-------\n",
    "## Problem 1.3\n",
    "### GAN   \n",
    "$By \\ min_Gmax_D(E_{p_{data(x)}}[logD(X)]+E_{p(x)}[log(l-D(G(Z)))]) \\\\ D(x)=argmax_D E_{p_{data(x)}}[logD(X)]+E_{p(x)}[log(l-D(G(Z)))] \\\\ = argmax_D \\int p_{data(x)}[logD(x)]dx+\\int p(x)[log(l-D(G(z)))]dz \\\\=argmax_D \\int p_{data(x)}[logD(x)]dx+\\int p(G^{-1}(x))[log(l-D(G(x)))]\\frac{1}{(G^{-1}(x))^{'}}dx \\\\ = argmax_D \\int p_{data(x)}[logD(x)]dx + p(G^{-1}(x))[log(l-D(G(x)))]\\frac{1}{(G^{-1}(x))^{'}}dx \\\\ =argmax_DD(x)^{p_{data(x)}}(1-D(x))^{p_{model(x)}} \\\\ \\Rightarrow D(x) = \\frac{p_{data(x)}}{p_{data(x)}+p_{model(x)}}得证$"
   ]
  },
  {
   "cell_type": "markdown",
   "id": "german-thursday",
   "metadata": {},
   "source": [
    "-----\n",
    "# 2 Reinforcement Learning"
   ]
  },
  {
   "cell_type": "markdown",
   "id": "thrown-polish",
   "metadata": {},
   "source": [
    "## Problem 2.1\n",
    "### Policy Improvement Theorem"
   ]
  },
  {
   "cell_type": "markdown",
   "id": "fitting-management",
   "metadata": {},
   "source": [
    "在$Markov \\ Decision \\ Process$，有$policy \\ \\pi$，可用下述方式将$\\pi$更新至$\\pi^{'}$：    \n",
    "$\\forall s\\in S, \\ \\pi^{'}(s) = argmax_{a}q^{\\pi}(s,a)$   \n",
    "欲证$\\forall s\\in S, \\ v^{\\pi^{'}}(s) \\geq v^{\\pi}(s)$    \n",
    "    \n",
    "    \n",
    "下证：   \n",
    "$By \\ definition \\ of \\ state-value \\ funciton \\ and \\ action \\ function, \\ v^{\\pi}(s) = \\sum_{a}\\pi(a|s)q^{\\pi}(s,a)\\leq q^{\\pi}(s,\\pi^{'}(s)) \\\\ \\Rightarrow v^{\\pi}(s) \\leq \\pi^{'}(s)$   \n",
    "且$q^{\\pi}(s,\\pi^{'}(s)) = E_\\pi[R_{t+1}+...|S_t=s,A_t= \\pi^{'}(s]$   \n",
    "故证$q^{\\pi}(s,\\pi^{'}(s)) = \\pi^{'}(s) \\leq v^{\\pi}(s)$，则$v^{\\pi^{'}}(s) \\geq v^{\\pi}(s)$即可得证  \n",
    "   \n",
    "    \n",
    "现令$\\pi^{'}(s)=f(1),\\ v^{\\pi}(s) = f(\\infty)$，并求证$f(k) \\leq f(k+1)$   \n",
    "$f(k)=\\sum_{i=0}^{k-1}\\gamma^iE_{\\pi^{'}}[R_t+i+1|S_t=s]+\\sum_{s_1}...\\sum_{s_k}\\sum_aP_{ss_1}^{\\pi^{'}(s)}P_{s_1s_2}^{\\pi^{'}(s_1)}...P_{s_{k-1}s_k}^{\\pi^{'}(s_{k-1})}\\pi(a|s_k)E_{\\pi}[\\sum_{j=k}^{\\infty}\\gamma^jR_{t+j+1}|S_{t+k}=s_k,A_{t+k}=a] \\\\ = \\sum_{i=0}^{k-1}\\gamma^kE_{\\pi^{'}}[R_t+i+1|S_t=s]+\\sum_{s_1}...\\sum_{s_k}\\sum_aP_{ss_1}^{\\pi^{'}(s)}P_{s_1s_2}^{\\pi^{'}(s_1)}...P_{s_{k-1}s_k}^{\\pi^{'}(s_{k-1})}\\pi(a|s_k)\\gamma^kq^{\\pi}(s_k,a) \\\\ \\leq \\sum_{i=0}^{k-1}\\gamma^kE_{\\pi^{'}}[R_t+i+1|S_t=s]+\\sum_{s_1}...\\sum_{s_k}\\sum_aP_{ss_1}^{\\pi^{'}(s)}P_{s_1s_2}^{\\pi^{'}(s_1)}...P_{s_{k-1}s_k}^{\\pi^{'}(s_{k-1})}\\gamma^kq^{\\pi}(s_k,\\pi^{'}(s_k))=f(k+1)\\\\ \\Rightarrow f(1)\\leq f(\\infty) \\\\ \\Rightarrow \\pi^{'}(s) \\leq v^{\\pi}(s)\\\\ \\Rightarrow v^{\\pi}(s) \\leq \\pi^{'}(s) \\leq v^{\\pi}(s) \\\\ \\Rightarrow v^{\\pi}(s) \\leq  v^{\\pi}(s)得证 $  "
   ]
  }
 ],
 "metadata": {
  "kernelspec": {
   "display_name": "Python 3",
   "language": "python",
   "name": "python3"
  },
  "language_info": {
   "codemirror_mode": {
    "name": "ipython",
    "version": 3
   },
   "file_extension": ".py",
   "mimetype": "text/x-python",
   "name": "python",
   "nbconvert_exporter": "python",
   "pygments_lexer": "ipython3",
   "version": "3.8.3"
  }
 },
 "nbformat": 4,
 "nbformat_minor": 5
}
